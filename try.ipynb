{
 "cells": [
  {
   "cell_type": "code",
   "execution_count": null,
   "metadata": {},
   "outputs": [],
   "source": [
    "# %pip install findspark"
   ]
  },
  {
   "cell_type": "code",
   "execution_count": null,
   "metadata": {},
   "outputs": [],
   "source": [
    "## Find spark absolute path and add .JAR file to pyspark jar folder \n",
    "## Since we wanna use spark we need jdbc(java data base connectivity) driver.\n",
    "## In my case i use MS-SQL because of that i downloaded MS-SQL JDBC Driver from Microsoft.\n",
    "\n",
    "## Microsoft Sql Server JDBC Driver\n",
    "## https://docs.microsoft.com/en-us/sql/connect/jdbc/download-microsoft-jdbc-driver-for-sql-server?view=sql-server-ver17\n",
    "\n",
    "## Consider picking that matches with your java installed on your machine. With pyspark or spark in general works great with java8 and java11.\n",
    "## Since my choose was java11 i choose that version.\n",
    "\n",
    "# import findspark\n",
    "# findspark.init()\n",
    "# findspark.find()"
   ]
  },
  {
   "cell_type": "code",
   "execution_count": 1,
   "metadata": {},
   "outputs": [],
   "source": [
    "import pyspark\n",
    "from pyspark.sql import SparkSession\n",
    "import pyodbc"
   ]
  },
  {
   "cell_type": "code",
   "execution_count": 2,
   "metadata": {},
   "outputs": [],
   "source": [
    "spark = SparkSession.builder \\\n",
    "    .appName('Practice') \\\n",
    "    .master('local[*]') \\\n",
    "    .config(\"spark.executor.memory\", \"4g\") \\\n",
    "    .config(\"spark.driver.memory\", \"4g\") \\\n",
    "    .getOrCreate()"
   ]
  },
  {
   "cell_type": "code",
   "execution_count": null,
   "metadata": {},
   "outputs": [],
   "source": [
    "df_spark = spark.read.parquet('fhvhv_tripdata_2023-01.parquet', header=True)"
   ]
  },
  {
   "cell_type": "code",
   "execution_count": null,
   "metadata": {},
   "outputs": [],
   "source": [
    "server = 'server'\n",
    "database = 'database'\n",
    "username = 'username'\n",
    "password = 'password'\n",
    "driver = 'com.microsoft.sqlserver.jdbc.SQLServerDriver' # its my driver\n",
    "#port = port # Insert your pc port where your SQL SERVER is running"
   ]
  },
  {
   "cell_type": "code",
   "execution_count": 10,
   "metadata": {},
   "outputs": [],
   "source": [
    "jdbc_url = f\"jdbc:sqlserver://{server}:{port};databaseName={database};encrypt=false\"\n",
    "properties = {\n",
    "    \"user\": username,\n",
    "    \"password\": password,\n",
    "    \"driver\": driver,\n",
    "    \"batchsize\": \"10000\"\n",
    "}"
   ]
  },
  {
   "cell_type": "code",
   "execution_count": 11,
   "metadata": {},
   "outputs": [],
   "source": [
    "def create_database_if_not_exists(server, username, password, database):\n",
    "\n",
    "    conn = pyodbc.connect(f'DRIVER={{ODBC Driver 17 for SQL Server}};SERVER={server};UID={username};PWD={password}')\n",
    "    \n",
    "    conn.autocommit = True\n",
    "    \n",
    "    cursor = conn.cursor()\n",
    "\n",
    "    cursor.execute(f\"\"\"\n",
    "    IF NOT EXISTS (SELECT * FROM sys.databases WHERE name = '{database}')\n",
    "    BEGIN\n",
    "        CREATE DATABASE {database}\n",
    "    END\n",
    "    \"\"\")\n",
    "    \n",
    "    cursor.close()\n",
    "    conn.close()"
   ]
  },
  {
   "cell_type": "code",
   "execution_count": 12,
   "metadata": {},
   "outputs": [],
   "source": [
    "create_database_if_not_exists(server, username, password, database)"
   ]
  },
  {
   "cell_type": "code",
   "execution_count": 13,
   "metadata": {},
   "outputs": [],
   "source": [
    "df_spark = df_spark.repartition(100)"
   ]
  },
  {
   "cell_type": "code",
   "execution_count": 14,
   "metadata": {},
   "outputs": [],
   "source": [
    "df_spark.write.jdbc(url=jdbc_url, table='fhvhv_tripdata', mode='append', properties=properties)"
   ]
  },
  {
   "cell_type": "code",
   "execution_count": null,
   "metadata": {},
   "outputs": [],
   "source": []
  }
 ],
 "metadata": {
  "kernelspec": {
   "display_name": "Python 3",
   "language": "python",
   "name": "python3"
  },
  "language_info": {
   "codemirror_mode": {
    "name": "ipython",
    "version": 3
   },
   "file_extension": ".py",
   "mimetype": "text/x-python",
   "name": "python",
   "nbconvert_exporter": "python",
   "pygments_lexer": "ipython3",
   "version": "3.11.5"
  }
 },
 "nbformat": 4,
 "nbformat_minor": 2
}
